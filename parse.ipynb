{
 "cells": [
  {
   "cell_type": "markdown",
   "metadata": {},
   "source": [
    "# Inferring IPv6 Activity Using Hyper-Specific Prefixes"
   ]
  },
  {
   "cell_type": "markdown",
   "metadata": {},
   "source": [
    "## 1. Setup"
   ]
  },
  {
   "cell_type": "markdown",
   "metadata": {},
   "source": [
    "### Imports"
   ]
  },
  {
   "cell_type": "code",
   "execution_count": 1,
   "metadata": {},
   "outputs": [],
   "source": [
    "import pytricia\n",
    "from ipaddress import ip_network\n",
    "import matplotlib.pyplot as plt\n",
    "from matplotlib import use, rcParams\n",
    "from tqdm import tqdm\n",
    "# import tikzplotlib"
   ]
  },
  {
   "cell_type": "code",
   "execution_count": 2,
   "metadata": {},
   "outputs": [],
   "source": [
    "def set_size(width_pt, fraction=1, subplots=(1, 1)):\n",
    "    \"\"\"Set figure dimensions to sit nicely in our document.\n",
    "\n",
    "    Parameters\n",
    "    ----------\n",
    "    width_pt: float\n",
    "            Document width in points\n",
    "    fraction: float, optional\n",
    "            Fraction of the width which you wish the figure to occupy\n",
    "    subplots: array-like, optional\n",
    "            The number of rows and columns of subplots.\n",
    "    Returns\n",
    "    -------\n",
    "    fig_dim: tuple\n",
    "            Dimensions of figure in inches\n",
    "    \"\"\"\n",
    "    # Width of figure (in pts)\n",
    "    fig_width_pt = width_pt * fraction\n",
    "    # Convert from pt to inches\n",
    "    inches_per_pt = 1 / 72.27\n",
    "\n",
    "    # Golden ratio to set aesthetic figure height\n",
    "    golden_ratio = (5**.5 - 1) / 2\n",
    "\n",
    "    # Figure width in inches\n",
    "    fig_width_in = fig_width_pt * inches_per_pt\n",
    "    # Figure height in inches\n",
    "    fig_height_in = fig_width_in * golden_ratio * (subplots[0] / subplots[1])\n",
    "\n",
    "    return (fig_width_in, fig_width_in)\n"
   ]
  },
  {
   "cell_type": "code",
   "execution_count": 3,
   "metadata": {},
   "outputs": [
    {
     "data": {
      "text/plain": [
       "(3.5, 3.5)"
      ]
     },
     "execution_count": 3,
     "metadata": {},
     "output_type": "execute_result"
    }
   ],
   "source": [
    "set_size(505.89/2)"
   ]
  },
  {
   "cell_type": "code",
   "execution_count": 4,
   "metadata": {},
   "outputs": [],
   "source": [
    "use(\"pgf\")\n",
    "rcParams.update({\n",
    "    \"pgf.texsystem\": \"pdflatex\",\n",
    "    'font.family': 'serif',\n",
    "    'text.usetex': True,\n",
    "    'pgf.rcfonts': False,\n",
    "    \"figure.figsize\": (3.5, 3.8),\n",
    "})"
   ]
  },
  {
   "cell_type": "markdown",
   "metadata": {},
   "source": [
    "### Read datasets"
   ]
  },
  {
   "cell_type": "code",
   "execution_count": 5,
   "metadata": {},
   "outputs": [],
   "source": [
    "with open(\"parsed_data/rrc01.20220801.1600_parse.txt\") as infile:  # RRC01 route data\n",
    "    routes = [tuple(route.rstrip().split()) for route in infile if route.rstrip()]\n",
    "\n",
    "with open(\"parsed_data/arin\") as infile:  # ARIN WHOIS\n",
    "    arin_whois = [ip.rstrip() for ip in infile if ip.rstrip()]\n",
    "\n",
    "with open(\"parsed_data/afrinic\") as infile:  # AFRINIC WHOIS\n",
    "    afrinic_whois = [ip.rstrip() for ip in infile if ip.rstrip()]\n",
    "\n",
    "with open(\"parsed_data/apnic\") as infile:  # APNIC WHOIS\n",
    "    apnic_whois = [ip.rstrip() for ip in infile if ip.rstrip()]\n",
    "\n",
    "with open(\"parsed_data/ripe\") as infile:  # RIPE WHOIS\n",
    "    ripe_whois = [ip.rstrip() for ip in infile if ip.rstrip()]\n",
    "\n",
    "with open(\"parsed_data/responsive-addresses.txt\") as infile:  # IPv6 hitlist\n",
    "    responsive_ips = [ip.rstrip() for ip in infile if ip.rstrip()]"
   ]
  },
  {
   "cell_type": "markdown",
   "metadata": {},
   "source": [
    "## 2. Routing Inferences"
   ]
  },
  {
   "cell_type": "markdown",
   "metadata": {},
   "source": [
    "### Build LPM prefix tree from RRC route data"
   ]
  },
  {
   "cell_type": "code",
   "execution_count": 6,
   "metadata": {},
   "outputs": [],
   "source": [
    "prefix_dict = {}\n",
    "rrc_pyt = pytricia.PyTricia(128)\n",
    "routes_ipv6 = [route for route in routes if ip_network(route[0]).version == 6]\n",
    "hsps = {}\n",
    "# iterate over ipv6 routes and build pytricia tree for non-hsp routes\n",
    "for prefix in routes_ipv6:\n",
    "    asns = prefix[1].split(\"/\")\n",
    "    asn_set = set()\n",
    "    for asn in asns:\n",
    "        if \"{\" not in asn:\n",
    "            asn_set.add(int(asn))\n",
    "        else:\n",
    "            asn = asn.strip(\"{}\").split(\",\")\n",
    "            asn = set([int(a) for a in asn])\n",
    "            asn_set.union(asn)\n",
    "    prefix_dict[ip_network(prefix[0])] = asn_set\n",
    "    if ip_network(prefix[0]).prefixlen <= 48:  # > /48 is HSP\n",
    "        rrc_pyt[prefix[0]] = asn_set  # larger routes go to tree\n",
    "    else:\n",
    "        hsps[prefix[0]] = asn_set  # hsp routes go to dict"
   ]
  },
  {
   "cell_type": "code",
   "execution_count": 18,
   "metadata": {},
   "outputs": [],
   "source": [
    "with open (\"results/hsp.txt\", 'w') as outfile:\n",
    "    for hsp in hsps:\n",
    "        outfile.write(f\"{hsp} {hsps[hsp]}\\n\")"
   ]
  },
  {
   "cell_type": "markdown",
   "metadata": {},
   "source": [
    "### Compute longest prefix match for HSPs using route data"
   ]
  },
  {
   "cell_type": "code",
   "execution_count": 7,
   "metadata": {},
   "outputs": [],
   "source": [
    "# iterate over hsp routes and check if they are contained in the tree\n",
    "lpm = {}  # store the longest prefix match for an hsp\n",
    "for hsp in hsps.keys():\n",
    "    if hsp in rrc_pyt:\n",
    "        lpm[ip_network(hsp)] = ip_network(rrc_pyt.get_key(hsp))\n",
    "    else:\n",
    "        raise ValueError(\"HSP not found in tree.\")"
   ]
  },
  {
   "cell_type": "markdown",
   "metadata": {},
   "source": [
    "### Statistics of Routing Data"
   ]
  },
  {
   "cell_type": "markdown",
   "metadata": {},
   "source": [
    "#### CDF Plots for HSP, LPM Prefix lengths"
   ]
  },
  {
   "cell_type": "code",
   "execution_count": 8,
   "metadata": {},
   "outputs": [],
   "source": [
    "# Plot CDFs of HSP and LPM prefix lengths\n",
    "hsp_prefixlen = [hsp.prefixlen for hsp in lpm.keys()]\n",
    "lpm_prefixlen = [lpm[hsp].prefixlen for hsp in lpm.keys()]\n",
    "prefix_range = range(0, 129)\n"
   ]
  },
  {
   "cell_type": "code",
   "execution_count": null,
   "metadata": {},
   "outputs": [],
   "source": [
    "fig = plt.hist(\n",
    "    hsp_prefixlen,\n",
    "    bins=prefix_range,\n",
    "    density=True,\n",
    "    cumulative=True,\n",
    "    histtype=\"step\",\n",
    "    label=\"HSP\",\n",
    ")\n",
    "plt.hist(\n",
    "    lpm_prefixlen,\n",
    "    bins=prefix_range,\n",
    "    density=True,\n",
    "    cumulative=True,\n",
    "    histtype=\"step\",\n",
    "    label=\"LPP\",\n",
    ")\n",
    "plt.legend(loc=\"lower right\")\n",
    "plt.xlabel(\"Prefix length\")\n",
    "plt.xlim([0, 128])\n",
    "plt.xticks(range(0, 129, 16))\n",
    "plt.ylabel(\"CDF\")\n",
    "plt.savefig(\"results/hsp-lpm-cdf.pgf\")"
   ]
  },
  {
   "cell_type": "markdown",
   "metadata": {},
   "source": [
    "#### Number of distinct prefix lengths in HSPs"
   ]
  },
  {
   "cell_type": "code",
   "execution_count": 9,
   "metadata": {},
   "outputs": [
    {
     "name": "stdout",
     "output_type": "stream",
     "text": [
      "Number of distinct prefix lengths of HSPs - 24\n"
     ]
    }
   ],
   "source": [
    "# number of distinct prefix lengths of HSPs\n",
    "hsp_prefixlen_distinct = set(hsp_prefixlen)\n",
    "print(f\"Number of distinct prefix lengths of HSPs - {len(hsp_prefixlen_distinct)}\")\n",
    "hsp_prefixlen_counts = {}\n",
    "for prefixlen in hsp_prefixlen_distinct:\n",
    "    hsp_prefixlen_counts[prefixlen] = hsp_prefixlen.count(prefixlen)\n"
   ]
  },
  {
   "cell_type": "code",
   "execution_count": 10,
   "metadata": {},
   "outputs": [],
   "source": [
    "\n",
    "# plot a bar chart of the number of HSPs per prefix length\n",
    "plt.bar(hsp_prefixlen_counts.keys(), hsp_prefixlen_counts.values())\n",
    "plt.xlabel(\"Prefix length\")\n",
    "plt.xticks(range(40, 129, 8))\n",
    "plt.ylabel(\"Number of HSPs\")\n",
    "plt.yticks(range(0, 1300, 50))\n",
    "# plt.title(\"Number of HSPs per prefix length\")\n",
    "plt.tight_layout()\n",
    "plt.savefig(\"results/hsp-prefixlen.pgf\")\n"
   ]
  },
  {
   "cell_type": "code",
   "execution_count": 10,
   "metadata": {},
   "outputs": [
    {
     "name": "stdout",
     "output_type": "stream",
     "text": [
      "Top 5 HSPs prefix length counts:\n",
      "1. /64 - 1241\n",
      "2. /124 - 167\n",
      "3. /56 - 144\n",
      "4. /127 - 131\n",
      "5. /128 - 125\n"
     ]
    }
   ],
   "source": [
    "\n",
    "# top 5 HSPs by prefix length counts\n",
    "hsp_prefixlen_counts_sorted = sorted(\n",
    "    hsp_prefixlen_counts.items(), key=lambda x: x[1], reverse=True\n",
    ")\n",
    "print(\"Top 5 HSPs prefix length counts:\")\n",
    "for i in range(5):\n",
    "    print(\n",
    "        f\"{i+1}. /{hsp_prefixlen_counts_sorted[i][0]} - {hsp_prefixlen_counts_sorted[i][1]}\"\n",
    "    )"
   ]
  },
  {
   "cell_type": "code",
   "execution_count": 17,
   "metadata": {},
   "outputs": [
    {
     "name": "stdout",
     "output_type": "stream",
     "text": [
      "Max prefix length of HSP records - 128\n",
      "Average prefix length of HSP records - 79.42890013805798\n",
      "Median prefix length of HSP records - 64\n"
     ]
    }
   ],
   "source": [
    "# get max prefix length of all hsp records\n",
    "hsp_records_ip = [ip_network(hsp).prefixlen for hsp in hsps]\n",
    "max_prefixlen = max(hsp_records_ip)\n",
    "print(f\"Max prefix length of HSP records - {max_prefixlen}\")\n",
    "avg_prefixlen = sum(hsp_records_ip) / len(hsp_records_ip)\n",
    "print(f\"Average prefix length of HSP records - {avg_prefixlen}\")\n",
    "median_prefixlen = sorted(hsp_records_ip)[len(hsp_records_ip) // 2]\n",
    "print(f\"Median prefix length of HSP records - {median_prefixlen}\")"
   ]
  },
  {
   "cell_type": "markdown",
   "metadata": {},
   "source": [
    "#### CDF plots for LPM prefix lengths for top HSPs by prefix length"
   ]
  },
  {
   "cell_type": "code",
   "execution_count": 11,
   "metadata": {},
   "outputs": [],
   "source": [
    "# for each of the top 5 HSPs, plot the CDF of LPMs per prefix length\n",
    "for i in range(5):\n",
    "    prefixlen = hsp_prefixlen_counts_sorted[i][0]\n",
    "    lpm_prefixlen = [\n",
    "        lpm[hsp].prefixlen for hsp in lpm.keys() if hsp.prefixlen == prefixlen\n",
    "    ]\n",
    "    plt.hist(\n",
    "        lpm_prefixlen,\n",
    "        bins=prefix_range,\n",
    "        density=True,\n",
    "        cumulative=True,\n",
    "        histtype=\"step\",\n",
    "        label=f\"HSP prefix length {prefixlen}\",\n",
    "    )\n",
    "plt.legend(loc=\"lower right\")\n",
    "plt.xlabel(\"Prefix length\")\n",
    "plt.xlim([0, 128])\n",
    "plt.xticks(range(0, 129, 16))\n",
    "plt.ylabel(\"CDF\")\n",
    "# plt.title(\"CDF of LPM prefix lengths for top 5 HSPs\")\n",
    "plt.tight_layout()\n",
    "plt.savefig(\"results/hsp-lpm-cdf-top5.pgf\")"
   ]
  },
  {
   "cell_type": "markdown",
   "metadata": {},
   "source": [
    "#### Probability of LPM prefix length for top 5 HSPs"
   ]
  },
  {
   "cell_type": "code",
   "execution_count": 57,
   "metadata": {},
   "outputs": [
    {
     "name": "stdout",
     "output_type": "stream",
     "text": [
      "Probabilities of top 5 LPMs for HSP /64:\n",
      "1. /32 - 0.6317\n",
      "2. /48 - 0.1555\n",
      "3. /36 - 0.0475\n",
      "4. /0 - 0.0395\n",
      "5. /44 - 0.0266\n",
      "Probabilities of top 5 LPMs for HSP /124:\n",
      "1. /32 - 0.994\n",
      "2. /30 - 0.006\n",
      "Probabilities of top 5 LPMs for HSP /56:\n",
      "1. /32 - 0.3611\n",
      "2. /30 - 0.3611\n",
      "3. /48 - 0.1042\n",
      "4. /40 - 0.0347\n",
      "5. /0 - 0.0278\n",
      "Probabilities of top 5 LPMs for HSP /127:\n",
      "1. /32 - 0.4122\n",
      "2. /48 - 0.2443\n",
      "3. /30 - 0.1679\n",
      "4. /0 - 0.145\n",
      "5. /40 - 0.0153\n",
      "Probabilities of top 5 LPMs for HSP /128:\n",
      "1. /32 - 0.688\n",
      "2. /48 - 0.128\n",
      "3. /0 - 0.088\n",
      "4. /33 - 0.024\n",
      "5. /39 - 0.016\n"
     ]
    }
   ],
   "source": [
    "# get probability of LPM prefix length for top 5 HSPs\n",
    "for i in range(5):\n",
    "    hsp_prefixlen = hsp_prefixlen_counts_sorted[i][0]\n",
    "    lpm_prefixlen = [\n",
    "        lpm[hsp].prefixlen for hsp in lpm.keys() if hsp.prefixlen == hsp_prefixlen\n",
    "    ]\n",
    "    lpm_prefixlen_distinct = set(lpm_prefixlen)\n",
    "    lpm_prefixlen_counts = {}\n",
    "    for prefixlen in lpm_prefixlen_distinct:\n",
    "        lpm_prefixlen_counts[prefixlen] = lpm_prefixlen.count(prefixlen)\n",
    "    lpm_prefixlen_counts_sorted = sorted(\n",
    "        lpm_prefixlen_counts.items(), key=lambda x: x[1], reverse=True\n",
    "    )\n",
    "    print(f\"Probabilities of top 5 LPMs for HSP /{hsp_prefixlen}:\")\n",
    "    for j in range(5):\n",
    "        if j >= len(lpm_prefixlen_counts_sorted):\n",
    "            break\n",
    "        print(\n",
    "            f\"{j+1}. /{lpm_prefixlen_counts_sorted[j][0]} - {round(lpm_prefixlen_counts_sorted[j][1]/len(lpm_prefixlen), 4)}\"\n",
    "        )"
   ]
  },
  {
   "cell_type": "markdown",
   "metadata": {},
   "source": [
    "### Top 10 ASNs having HSPs"
   ]
  },
  {
   "cell_type": "code",
   "execution_count": 19,
   "metadata": {},
   "outputs": [
    {
     "name": "stdout",
     "output_type": "stream",
     "text": [
      "Top 10 ASNs with the most number of HSPs:\n",
      "1. 7713 - 552\n",
      "2. 28885 - 143\n",
      "3. 8151 - 112\n",
      "4. 262191 - 83\n",
      "5. 52468 - 82\n",
      "6. 9583 - 66\n",
      "7. 4657 - 62\n",
      "8. 6866 - 55\n",
      "9. 4761 - 54\n",
      "10. 13536 - 48\n"
     ]
    }
   ],
   "source": [
    "# get the top 10 ASNs with the most number of HSPs\n",
    "asns = {}\n",
    "for hsp in hsps:\n",
    "    asns[str(hsp)] = hsps[hsp]\n",
    "asns_counts = {}\n",
    "for asn in asns:\n",
    "    for _asn in asns[asn]:\n",
    "        if type(_asn) == \"int\":\n",
    "            raise ValueError(f\"ASN is not an integer., {_asn} - {type(_asn)}\")\n",
    "        if _asn in asns_counts:\n",
    "            asns_counts[_asn] += 1\n",
    "        else:\n",
    "            asns_counts[_asn] = 1\n",
    "asns_counts_sorted = sorted(asns_counts.items(), key=lambda x: x[1], reverse=True)\n",
    "print(\"Top 10 ASNs with the most number of HSPs:\")\n",
    "for i in range(10):\n",
    "    print(f\"{i+1}. {asns_counts_sorted[i][0]} - {asns_counts_sorted[i][1]}\")"
   ]
  },
  {
   "cell_type": "markdown",
   "metadata": {},
   "source": [
    "#### ASN 7713"
   ]
  },
  {
   "cell_type": "code",
   "execution_count": 25,
   "metadata": {},
   "outputs": [],
   "source": [
    "# get HSPs for ASN 7713\n",
    "asn_7713_hsp = [prefix for prefix in asns if 7713 in asns[prefix]]\n",
    "with open(\"results/7713_hsps.txt\", \"w\") as f:\n",
    "    for prefix in asn_7713_hsp:\n",
    "        f.write(f\"{prefix}\\n\")"
   ]
  },
  {
   "cell_type": "markdown",
   "metadata": {},
   "source": [
    "### Top HSP & LPM prefix lengths per ASN"
   ]
  },
  {
   "cell_type": "code",
   "execution_count": 45,
   "metadata": {},
   "outputs": [
    {
     "name": "stdout",
     "output_type": "stream",
     "text": [
      "Top HSP & LPM prefix lengths for ASNs with most HSPs:\n",
      "ASN 7713: Top HSP prefix length /124, Top LPM prefix length /32\n",
      "ASN 28885: Top HSP prefix length /64, Top LPM prefix length /32\n",
      "ASN 8151: Top HSP prefix length /64, Top LPM prefix length /32\n",
      "ASN 262191: Top HSP prefix length /127, Top LPM prefix length /48\n",
      "ASN 52468: Top HSP prefix length /64, Top LPM prefix length /32\n",
      "ASN 9583: Top HSP prefix length /64, Top LPM prefix length /32\n",
      "ASN 4657: Top HSP prefix length /64, Top LPM prefix length /30\n",
      "ASN 6866: Top HSP prefix length /56, Top LPM prefix length /30\n",
      "ASN 4761: Top HSP prefix length /64, Top LPM prefix length /32\n",
      "ASN 13536: Top HSP prefix length /64, Top LPM prefix length /32\n"
     ]
    }
   ],
   "source": [
    "# top HSP & LPM prefix lengths per ASN\n",
    "from collections import Counter\n",
    "\n",
    "print(\"Top HSP & LPM prefix lengths for ASNs with most HSPs:\")\n",
    "asn_prefixlen_counts = {}\n",
    "asn_hsp_counts = {}\n",
    "for idx, asn in enumerate(asns_counts_sorted):\n",
    "    if idx == 10:\n",
    "        break\n",
    "    for hsp in hsps:\n",
    "        if asn[0] in rrc_pyt[str(lpm[ip_network(hsp)])]:\n",
    "            if asn[0] not in asn_prefixlen_counts:\n",
    "                asn_prefixlen_counts[asn[0]] = []\n",
    "            asn_prefixlen_counts[asn[0]].append(lpm[ip_network(hsp)].prefixlen)\n",
    "        if asn[0] in hsps[str(hsp)]:\n",
    "            if asn[0] not in asn_hsp_counts:\n",
    "                asn_hsp_counts[asn[0]] = []\n",
    "            asn_hsp_counts[asn[0]].append(ip_network(hsp).prefixlen)\n",
    "\n",
    "    prefixlen_counter = Counter(asn_prefixlen_counts[asn[0]])\n",
    "    max_prefixlen = prefixlen_counter.most_common(1)[0][0]\n",
    "    hsp_counter = Counter(asn_hsp_counts[asn[0]])\n",
    "    max_hsp = hsp_counter.most_common(1)[0][0]\n",
    "    print(\n",
    "        f\"ASN {asn[0]}: Top HSP prefix length /{max_hsp}, Top LPM prefix length /{max_prefixlen}\"\n",
    "    )"
   ]
  },
  {
   "cell_type": "markdown",
   "metadata": {},
   "source": [
    "## 3. WHOIS Inferences"
   ]
  },
  {
   "cell_type": "markdown",
   "metadata": {},
   "source": [
    "### Build prefix tree from WHOIS data"
   ]
  },
  {
   "cell_type": "code",
   "execution_count": 19,
   "metadata": {},
   "outputs": [
    {
     "name": "stdout",
     "output_type": "stream",
     "text": [
      "1181426\n"
     ]
    }
   ],
   "source": [
    "whois_records = arin_whois + afrinic_whois + apnic_whois + ripe_whois\n",
    "print(len(whois_records))\n",
    "whois_pyt = pytricia.PyTricia(128)\n",
    "# iterate over whois records and try to match them with the hsp prefixes\n",
    "for idx, whois in enumerate(whois_records):\n",
    "    whois_pyt[whois] = idx"
   ]
  },
  {
   "cell_type": "markdown",
   "metadata": {},
   "source": [
    "### Compute longest prefix match for HSPs using WHOIS data"
   ]
  },
  {
   "cell_type": "code",
   "execution_count": 12,
   "metadata": {},
   "outputs": [],
   "source": [
    "whois_assignment = {}  # store the whois record for each hsp\n",
    "for hsp in hsps.keys():\n",
    "    if hsp in whois_pyt:\n",
    "        whois_assignment[ip_network(hsp)] = ip_network(whois_pyt.get_key(hsp))\n",
    "    else:\n",
    "        raise ValueError(\"HSP not found in tree.\")"
   ]
  },
  {
   "cell_type": "markdown",
   "metadata": {},
   "source": [
    "### Statistics of WHOIS records"
   ]
  },
  {
   "cell_type": "markdown",
   "metadata": {},
   "source": [
    "#### Max, Mean, Media Prefix Lengths of WHOIS Records"
   ]
  },
  {
   "cell_type": "code",
   "execution_count": 13,
   "metadata": {},
   "outputs": [
    {
     "name": "stdout",
     "output_type": "stream",
     "text": [
      "Max prefix length of WHOIS records - 128\n",
      "Average prefix length of WHOIS records - 55.281233018403185\n",
      "Median prefix length of WHOIS records - 56\n"
     ]
    }
   ],
   "source": [
    "# get max prefix length of all whois records\n",
    "whois_records_ip = [ip_network(whois).prefixlen for whois in whois_records]\n",
    "max_prefixlen = max(whois_records_ip)\n",
    "print(f\"Max prefix length of WHOIS records - {max_prefixlen}\")\n",
    "avg_prefixlen = sum(whois_records_ip) / len(whois_records_ip)\n",
    "print(f\"Average prefix length of WHOIS records - {avg_prefixlen}\")\n",
    "median_prefixlen = sorted(whois_records_ip)[len(whois_records_ip) // 2]\n",
    "print(f\"Median prefix length of WHOIS records - {median_prefixlen}\")"
   ]
  },
  {
   "cell_type": "markdown",
   "metadata": {},
   "source": [
    "#### Number of ::/0 WHOIS records"
   ]
  },
  {
   "cell_type": "code",
   "execution_count": 14,
   "metadata": {},
   "outputs": [
    {
     "name": "stdout",
     "output_type": "stream",
     "text": [
      "HSP ::/96 has WHOIS record = ::/0\n",
      "HSP 1:1900:5:2:2::2a0c/126 has WHOIS record = ::/0\n",
      "HSP 1900:2100::2a2c/126 has WHOIS record = ::/0\n",
      "HSP 2100:1900:5:2:2::1ba4/126 has WHOIS record = ::/0\n",
      "Number of HSPs with no corresponding WHOIS record - 4\n",
      "Probability of HSPs where WHOIS record is equal to HSP - 0.0018\n"
     ]
    }
   ],
   "source": [
    "# number of HSPs that have no corresponding whois record\n",
    "null_whois_counter = 0\n",
    "for hsp in whois_assignment:\n",
    "    if str(whois_assignment[hsp]) == \"::/0\":\n",
    "        null_whois_counter += 1\n",
    "        print(f\"HSP {hsp} has WHOIS record = {whois_assignment[hsp]}\")\n",
    "\n",
    "print(f\"Number of HSPs with no corresponding WHOIS record - {null_whois_counter}\")\n",
    "print(\n",
    "    f\"Probability of HSPs where WHOIS record is equal to HSP - {round(null_whois_counter / len(whois_assignment), 4)}\"\n",
    ")"
   ]
  },
  {
   "cell_type": "markdown",
   "metadata": {},
   "source": [
    "#### Number of HSP = WHOIS assignment records "
   ]
  },
  {
   "cell_type": "code",
   "execution_count": 15,
   "metadata": {},
   "outputs": [
    {
     "name": "stdout",
     "output_type": "stream",
     "text": [
      "Number of HSPs where WHOIS record is equal to HSP - 27\n",
      "Probability of HSPs where WHOIS record is equal to HSP - 0.0124\n"
     ]
    }
   ],
   "source": [
    "# number of HSPs where the WHOIS record is the same as the HSP\n",
    "same_whois_counter = 0\n",
    "for hsp in whois_assignment:\n",
    "    if str(whois_assignment[hsp]) == str(hsp):\n",
    "        same_whois_counter += 1\n",
    "\n",
    "print(f\"Number of HSPs where WHOIS record is equal to HSP - {same_whois_counter}\")\n",
    "print(\n",
    "    f\"Probability of HSPs where WHOIS record is equal to HSP - {round(same_whois_counter / len(whois_assignment), 4)}\"\n",
    ")"
   ]
  },
  {
   "cell_type": "markdown",
   "metadata": {},
   "source": [
    "#### CDF of difference between HSP and corresponding WHOIS record"
   ]
  },
  {
   "cell_type": "code",
   "execution_count": 14,
   "metadata": {},
   "outputs": [
    {
     "data": {
      "image/png": "[encoded data removed]",
      "text/plain": [
       "<Figure size 640x480 with 1 Axes>"
      ]
     },
     "metadata": {},
     "output_type": "display_data"
    }
   ],
   "source": [
    "# plot CDF of difference between HSP and corresponding WHOIS record prefix lengths\n",
    "diff_prefixlen = [\n",
    "    hsp.prefixlen - whois_assignment[hsp].prefixlen for hsp in whois_assignment\n",
    "]\n",
    "plt.hist(\n",
    "    diff_prefixlen,\n",
    "    bins=range(0, 128),\n",
    "    density=True,\n",
    "    cumulative=True,\n",
    "    histtype=\"step\",\n",
    ")\n",
    "plt.xlabel(\"Difference in prefix length\")\n",
    "plt.xlim([0, 128])\n",
    "plt.xticks(range(0, 129, 8))\n",
    "plt.ylabel(\"CDF\")\n",
    "plt.title(\"CDF of difference in prefix length between HSP and WHOIS record\")\n",
    "plt.show()"
   ]
  },
  {
   "cell_type": "markdown",
   "metadata": {},
   "source": [
    "#### CDF of WHOIS prefix lengths for top 5 HSPs by prefix length"
   ]
  },
  {
   "cell_type": "code",
   "execution_count": 16,
   "metadata": {},
   "outputs": [],
   "source": [
    "# for each of the top 5 HSPs, plot the CDF of WHOIS sizes by prefix length\n",
    "for i in range(5):\n",
    "    prefixlen = hsp_prefixlen_counts_sorted[i][0]\n",
    "    whois_prefixlen = [\n",
    "        whois_assignment[hsp].prefixlen\n",
    "        for hsp in whois_assignment.keys()\n",
    "        if hsp.prefixlen == prefixlen\n",
    "    ]\n",
    "    plt.hist(\n",
    "        whois_prefixlen,\n",
    "        bins=prefix_range,\n",
    "        density=True,\n",
    "        cumulative=True,\n",
    "        histtype=\"step\",\n",
    "        label=f\"HSP prefix length {prefixlen}\",\n",
    "    )\n",
    "plt.legend(loc=\"lower right\")\n",
    "plt.xlabel(\"Prefix length\")\n",
    "plt.xlim([0, 128])\n",
    "plt.xticks(range(0, 129, 16))\n",
    "plt.ylabel(\"CDF\")\n",
    "# plt.title(\"CDF of WHOIS prefix lengths for top 5 HSPs\")\n",
    "plt.tight_layout()\n",
    "plt.savefig(\"results/top5_hsp_whois_cdf.pgf\")"
   ]
  },
  {
   "cell_type": "markdown",
   "metadata": {},
   "source": [
    "### Find the geographic region for each HSP"
   ]
  },
  {
   "cell_type": "code",
   "execution_count": 11,
   "metadata": {},
   "outputs": [
    {
     "name": "stdout",
     "output_type": "stream",
     "text": [
      "Number of HSPs with unknown location - 1\n",
      "Number of HSPs in ARIN - 783\n",
      "Number of HSPs in AFRINIC - 41\n",
      "Number of HSPs in APNIC - 932\n",
      "Number of HSPs in RIPE - 416\n"
     ]
    }
   ],
   "source": [
    "# Assigning a location to each HSP\n",
    "rir_map = {\n",
    "    \"arin\": \"North America\",\n",
    "    \"afrinic\": \"Africa\",\n",
    "    \"apnic\": \"Asia Pacific\",\n",
    "    \"ripe\": \"Europe & Middle East\",\n",
    "    \"err\": \"Error\",\n",
    "}\n",
    "hsp_location = {}\n",
    "hsp_location_error = 0\n",
    "arin_count, afrinic_count, apnic_count, ripe_count = 0, 0, 0, 0\n",
    "for hsp, whois in whois_assignment.items():\n",
    "    if str(whois) in arin_whois:\n",
    "        arin_count += 1\n",
    "        hsp_location[hsp] = rir_map[\"arin\"]\n",
    "    elif str(whois) in afrinic_whois:\n",
    "        afrinic_count += 1\n",
    "        hsp_location[hsp] = rir_map[\"afrinic\"]\n",
    "    elif str(whois) in apnic_whois:\n",
    "        apnic_count += 1\n",
    "        hsp_location[hsp] = rir_map[\"apnic\"]\n",
    "    elif str(whois) in ripe_whois:\n",
    "        ripe_count += 1\n",
    "        hsp_location[hsp] = rir_map[\"ripe\"]\n",
    "    else:\n",
    "        hsp_location_error += 1\n",
    "        hsp_location[hsp] = rir_map[\"err\"]\n",
    "\n",
    "print(f\"Number of HSPs with unknown location - {hsp_location_error}\")\n",
    "print(f\"Number of HSPs in ARIN - {arin_count}\")\n",
    "print(f\"Number of HSPs in AFRINIC - {afrinic_count}\")\n",
    "print(f\"Number of HSPs in APNIC - {apnic_count}\")\n",
    "print(f\"Number of HSPs in RIPE - {ripe_count}\")"
   ]
  },
  {
   "cell_type": "markdown",
   "metadata": {},
   "source": [
    "## 4. IP Hitlist Inferences"
   ]
  },
  {
   "cell_type": "markdown",
   "metadata": {},
   "source": [
    "### Active IP addresses for each HSP's LPM Route"
   ]
  },
  {
   "cell_type": "code",
   "execution_count": 12,
   "metadata": {},
   "outputs": [],
   "source": [
    "# reverse the lpm dict\n",
    "lpm_reverse = {}\n",
    "for hsp, lpm in lpm.items():\n",
    "    if lpm in lpm_reverse:\n",
    "        lpm_reverse[lpm].append(hsp)\n",
    "    else:\n",
    "        lpm_reverse[lpm] = [hsp]\n",
    "\n",
    "# build a tree with just the lpm prefixes\n",
    "lpm_pyt = pytricia.PyTricia(128)\n",
    "for idx, lpm in enumerate(lpm_reverse):\n",
    "    lpm_pyt[lpm] = idx\n",
    "\n",
    "# iterate over the responsive addresses and try to match them with the lpm prefixes\n",
    "active_ips = {}\n",
    "for ip in responsive_ips:\n",
    "    if ip in lpm_pyt:\n",
    "        lpm = lpm_pyt.get_key(ip)\n",
    "        if lpm == \"::/0\":\n",
    "            continue\n",
    "        if lpm not in active_ips:\n",
    "            active_ips[lpm] = []\n",
    "        active_ips[lpm].append(ip)\n",
    "    else:\n",
    "        raise ValueError(\"IP not found in tree.\")"
   ]
  },
  {
   "cell_type": "markdown",
   "metadata": {},
   "source": [
    "#### Statistics of active IP addresses in LPM routes"
   ]
  },
  {
   "cell_type": "code",
   "execution_count": 14,
   "metadata": {},
   "outputs": [
    {
     "name": "stdout",
     "output_type": "stream",
     "text": [
      "Max number of responsive IPs per HSP LPM - 109115\n",
      "Min number of responsive IPs per HSP LPM - 1\n",
      "Average number of responsive IPs per HSP LPM - 1693.6938775510205\n",
      "Median number of responsive IPs per HSP LPM - 33\n",
      "Total number of responsive IPs - 6826560\n"
     ]
    }
   ],
   "source": [
    "# max number of responsive IPs per HSP LPM\n",
    "responsive_ips_per_lpm = [len(active_ips[lpm]) for lpm in active_ips]\n",
    "max_responsive_ips = max(responsive_ips_per_lpm)\n",
    "min_responsive_ips = min(responsive_ips_per_lpm)\n",
    "avg_responsive_ips = sum(responsive_ips_per_lpm) / len(responsive_ips_per_lpm)\n",
    "median_responsive_ips = sorted(responsive_ips_per_lpm)[len(responsive_ips_per_lpm) // 2]\n",
    "total_responsive_ips = len(responsive_ips)\n",
    "\n",
    "print(f\"Max number of responsive IPs per HSP LPM - {max_responsive_ips}\")\n",
    "print(f\"Min number of responsive IPs per HSP LPM - {min_responsive_ips}\")\n",
    "print(f\"Average number of responsive IPs per HSP LPM - {avg_responsive_ips}\")\n",
    "print(f\"Median number of responsive IPs per HSP LPM - {median_responsive_ips}\")\n",
    "print(f\"Total number of responsive IPs - {total_responsive_ips}\")"
   ]
  },
  {
   "cell_type": "markdown",
   "metadata": {},
   "source": [
    "#### CDF of active IPs in HSP LPM Routes"
   ]
  },
  {
   "cell_type": "code",
   "execution_count": 15,
   "metadata": {},
   "outputs": [
    {
     "data": {
      "image/png": "[encoded data removed]",
      "text/plain": [
       "<Figure size 640x480 with 1 Axes>"
      ]
     },
     "metadata": {},
     "output_type": "display_data"
    }
   ],
   "source": [
    "# plot CDF of number of responsive IPs per HSP LPM\n",
    "plt.hist(\n",
    "    responsive_ips_per_lpm,\n",
    "    bins=range(0, max(responsive_ips_per_lpm) + 1),\n",
    "    density=True,\n",
    "    cumulative=True,\n",
    "    histtype=\"step\",\n",
    ")\n",
    "plt.xlabel(\"Number of responsive IPs\")\n",
    "plt.xlim([0, max(responsive_ips_per_lpm)])\n",
    "plt.ylabel(\"CDF\")\n",
    "plt.title(\"CDF of number of responsive IPs per HSP LPM\")\n",
    "plt.show()"
   ]
  },
  {
   "cell_type": "markdown",
   "metadata": {},
   "source": [
    "#### Top & bottom 10 HSP LPM by number of active IPs"
   ]
  },
  {
   "cell_type": "code",
   "execution_count": 18,
   "metadata": {},
   "outputs": [
    {
     "name": "stdout",
     "output_type": "stream",
     "text": [
      "Top 10 HSP LPMs with most responsive IPs\n",
      "LPM: 2001:558::/29, Number of responsive IPs - 109115, ASN - 7922\n",
      "LPM: 2600:1400::/24, Number of responsive IPs - 93373, ASN - 20940\n",
      "LPM: 2a02:26f0::/32, Number of responsive IPs - 61229, ASN - 20940, 34164\n",
      "LPM: 2001:470::/32, Number of responsive IPs - 37804, ASN - 6939\n",
      "LPM: 2001:1900::/32, Number of responsive IPs - 25957, ASN - 3356\n",
      "LPM: 2620:0:1c00::/40, Number of responsive IPs - 12170, ASN - 32934\n",
      "LPM: 2406:3000::/30, Number of responsive IPs - 11384, ASN - 4657\n",
      "LPM: 2001:668::/32, Number of responsive IPs - 7032, ASN - 3257\n",
      "LPM: 2001:438::/32, Number of responsive IPs - 5110, ASN - 6461\n",
      "LPM: 2001:418::/32, Number of responsive IPs - 3387, ASN - 2914\n",
      "Bottom 10 HSP LPMs with most responsive IPs\n",
      "LPM: 2001:42d8:1113::/48, Number of responsive IPs - 1, ASN - 29571\n",
      "LPM: 2001:508::/32, Number of responsive IPs - 1, ASN - 32020\n",
      "LPM: 2001:67c:189c::/48, Number of responsive IPs - 1, ASN - 1257\n",
      "LPM: 2001:6d0:6d0::/48, Number of responsive IPs - 1, ASN - 43832\n",
      "LPM: 2001:6d0:ffd5::/48, Number of responsive IPs - 1, ASN - 42385\n",
      "LPM: 2001:df7:6800::/48, Number of responsive IPs - 1, ASN - 59194\n",
      "LPM: 2406:3000:c::/48, Number of responsive IPs - 1, ASN - 4657\n",
      "LPM: 2600:1417:1800::/48, Number of responsive IPs - 1, ASN - 20940\n",
      "LPM: 2606:3c80:a300::/40, Number of responsive IPs - 1, ASN - 399724\n",
      "LPM: 2800:b70:4::/48, Number of responsive IPs - 1, ASN - 262191\n"
     ]
    }
   ],
   "source": [
    "# top 10 HSP LPMs with most responsive IPs\n",
    "top_10_lpm = sorted(active_ips, key=lambda x: len(active_ips[x]), reverse=True)[:10]\n",
    "print(\"Top 10 HSP LPMs with most responsive IPs\")\n",
    "for lpm in top_10_lpm:\n",
    "    print(\n",
    "        f\"LPM: {lpm}, Number of responsive IPs - {len(active_ips[lpm])}, ASN - {', '.join(list(map(str,rrc_pyt[lpm])))}\"\n",
    "    )\n",
    "\n",
    "# Bottom 10 HSP LPMs with most responsive IPs\n",
    "bottom_10_lpm = sorted(active_ips, key=lambda x: len(active_ips[x]))[:10]\n",
    "print(\"Bottom 10 HSP LPMs with most responsive IPs\")\n",
    "for lpm in bottom_10_lpm:\n",
    "    print(\n",
    "        f\"LPM: {lpm}, Number of responsive IPs - {len(active_ips[lpm])}, ASN - {', '.join(list(map(str,rrc_pyt[lpm])))}\"\n",
    "    )"
   ]
  },
  {
   "cell_type": "markdown",
   "metadata": {},
   "source": [
    "### Active IP address for each HSP WHOIS record"
   ]
  },
  {
   "cell_type": "code",
   "execution_count": 36,
   "metadata": {},
   "outputs": [],
   "source": [
    "# reverse the whois dict\n",
    "whois_assignment_reverse = {}\n",
    "for hsp, whois_lpm in whois_assignment.items():\n",
    "    if whois_lpm in whois_assignment_reverse:\n",
    "        whois_assignment_reverse[whois_lpm].append(hsp)\n",
    "    else:\n",
    "        whois_assignment_reverse[whois_lpm] = [hsp]\n",
    "\n",
    "# build a tree with just the whois prefixes\n",
    "whois_ip_pyt = pytricia.PyTricia(128)\n",
    "for idx, whois_lpm in enumerate(whois_assignment_reverse):\n",
    "    whois_ip_pyt[whois_lpm] = idx\n",
    "\n",
    "# iterate over the responsive addresses and try to match them with the whois lpm prefixes\n",
    "active_ips = {}\n",
    "for ip in responsive_ips:\n",
    "    if ip in whois_ip_pyt:\n",
    "        whois_lpm = whois_ip_pyt.get_key(ip)\n",
    "        if whois_lpm == \"::/0\":\n",
    "            continue\n",
    "        if whois_lpm not in active_ips:\n",
    "            active_ips[whois_lpm] = []\n",
    "        active_ips[whois_lpm].append(ip)\n",
    "    else:\n",
    "        raise ValueError(\"IP not found in tree.\")"
   ]
  },
  {
   "cell_type": "markdown",
   "metadata": {},
   "source": [
    "#### Statistics of active IP addresses in WHOIS records"
   ]
  },
  {
   "cell_type": "code",
   "execution_count": 46,
   "metadata": {},
   "outputs": [
    {
     "name": "stdout",
     "output_type": "stream",
     "text": [
      "Max number of responsive IPs per HSP WHOIS - 150585\n",
      "Min number of responsive IPs per HSP WHOIS - 1\n",
      "Average number of responsive IPs per HSP WHOIS - 3602.9030303030304\n",
      "Median number of responsive IPs per HSP WHOIS - 67\n",
      "Total number of responsive IPs - 6826560\n"
     ]
    }
   ],
   "source": [
    "# max number of responsive IPs per HSP WHOIS record\n",
    "responsive_ips_per_whois = [len(active_ips[lpm]) for lpm in active_ips]\n",
    "max_responsive_ips = max(responsive_ips_per_whois)\n",
    "min_responsive_ips = min(responsive_ips_per_whois)\n",
    "avg_responsive_ips = sum(responsive_ips_per_whois) / len(responsive_ips_per_whois)\n",
    "median_responsive_ips = sorted(responsive_ips_per_whois)[\n",
    "    len(responsive_ips_per_whois) // 2\n",
    "]\n",
    "total_responsive_ips = len(responsive_ips)\n",
    "\n",
    "print(f\"Max number of responsive IPs per HSP WHOIS - {max_responsive_ips}\")\n",
    "print(f\"Min number of responsive IPs per HSP WHOIS - {min_responsive_ips}\")\n",
    "print(f\"Average number of responsive IPs per HSP WHOIS - {avg_responsive_ips}\")\n",
    "print(f\"Median number of responsive IPs per HSP WHOIS - {median_responsive_ips}\")\n",
    "print(f\"Total number of responsive IPs - {total_responsive_ips}\")"
   ]
  },
  {
   "cell_type": "markdown",
   "metadata": {},
   "source": [
    "#### Top & bottom 10 HSP WHOIS records by number of active IPs"
   ]
  },
  {
   "cell_type": "code",
   "execution_count": 39,
   "metadata": {},
   "outputs": [
    {
     "name": "stdout",
     "output_type": "stream",
     "text": [
      "Top 10 HSP WHOIS records with most responsive IPs\n",
      "WHOIS: 2800::/12, Number of responsive IPs - 150585, ASN - 207841, 1299, 174, 25369\n",
      "WHOIS: 2001:558::/29, Number of responsive IPs - 109115, ASN - 7922\n",
      "WHOIS: 2600:1400::/24, Number of responsive IPs - 95010, ASN - 20940\n",
      "WHOIS: 2a02:26f0::/29, Number of responsive IPs - 61938, ASN - 20940\n",
      "WHOIS: 2001:470::/32, Number of responsive IPs - 37804, ASN - 6939\n",
      "WHOIS: 2001:1900::/32, Number of responsive IPs - 25954, ASN - 3356\n",
      "WHOIS: 2001:1200::/23, Number of responsive IPs - 15054, ASN - 207841, 1299, 174, 25369\n",
      "WHOIS: 2620:0:1c00::/40, Number of responsive IPs - 12170, ASN - 32934\n",
      "WHOIS: 2406:3000::/30, Number of responsive IPs - 11740, ASN - 4657\n",
      "WHOIS: 2c00::/12, Number of responsive IPs - 10965, ASN - 207841, 1299, 174, 25369\n",
      "Bottom 10 HSP WHOIS records with most responsive IPs\n",
      "WHOIS: 2001:508::/32, Number of responsive IPs - 1, ASN - 32020\n",
      "WHOIS: 2001:67c:189c::/48, Number of responsive IPs - 1, ASN - 1257\n",
      "WHOIS: 2001:6d0:6d0::/48, Number of responsive IPs - 1, ASN - 43832\n",
      "WHOIS: 2001:6d0:ffd5::/48, Number of responsive IPs - 1, ASN - 42385\n",
      "WHOIS: 2001:df7:6800::/48, Number of responsive IPs - 1, ASN - 59194\n",
      "WHOIS: 2a01:5a8:2:4::/64, Number of responsive IPs - 1, ASN - 8866\n",
      "WHOIS: 2a01:5a8:2:c::/64, Number of responsive IPs - 1, ASN - 8866\n",
      "WHOIS: 2a02:2808:2601::/48, Number of responsive IPs - 1, ASN - 35165\n",
      "WHOIS: 2a07:2280::/29, Number of responsive IPs - 1, ASN - 48909\n",
      "WHOIS: 2a07:a6c0:b::/48, Number of responsive IPs - 1, ASN - 3267\n"
     ]
    }
   ],
   "source": [
    "# top 10 HSP WHOIS records with most responsive IPs\n",
    "top_10_whois = sorted(active_ips, key=lambda x: len(active_ips[x]), reverse=True)[:10]\n",
    "print(\"Top 10 HSP WHOIS records with most responsive IPs\")\n",
    "for whois in top_10_whois:\n",
    "    print(\n",
    "        f\"WHOIS: {whois}, Number of responsive IPs - {len(active_ips[whois])}, ASN - {', '.join(list(map(str,rrc_pyt[whois])))}\"\n",
    "    )\n",
    "\n",
    "# Bottom 10 HSP WHOIS records with most responsive IPs\n",
    "bottom_10_whois = sorted(active_ips, key=lambda x: len(active_ips[x]))[:10]\n",
    "print(\"Bottom 10 HSP WHOIS records with most responsive IPs\")\n",
    "for whois in bottom_10_whois:\n",
    "    print(\n",
    "        f\"WHOIS: {whois}, Number of responsive IPs - {len(active_ips[whois])}, ASN - {', '.join(list(map(str,rrc_pyt[whois])))}\"\n",
    "    )"
   ]
  },
  {
   "cell_type": "markdown",
   "metadata": {},
   "source": [
    "### LPMs and Active IP addresses for the top 10 HSPs"
   ]
  },
  {
   "cell_type": "code",
   "execution_count": 33,
   "metadata": {},
   "outputs": [
    {
     "name": "stdout",
     "output_type": "stream",
     "text": [
      "ASN: 7713, Number of responsive IPs in LPM - 1425, Number of HSPs - 552\n",
      "ASN: 28885, Number of responsive IPs in LPM - 569, Number of HSPs - 143\n",
      "ASN: 8151, Number of responsive IPs in LPM - 1892, Number of HSPs - 112\n",
      "ASN: 262191, Number of responsive IPs in LPM - 30, Number of HSPs - 64\n",
      "ASN: 52468, Number of responsive IPs in LPM - 268, Number of HSPs - 67\n",
      "ASN: 9583, Number of responsive IPs in LPM - 369, Number of HSPs - 69\n",
      "ASN: 4657, Number of responsive IPs in LPM - 11740, Number of HSPs - 87\n",
      "ASN: 6866, Number of responsive IPs in LPM - 154, Number of HSPs - 56\n",
      "ASN: 4761, Number of responsive IPs in LPM - 524, Number of HSPs - 57\n",
      "ASN: 13536, Number of responsive IPs in LPM - 206, Number of HSPs - 25\n"
     ]
    }
   ],
   "source": [
    "# lpm and active IPs for top 10 hsps\n",
    "\n",
    "lpm_asn_top10 = {}\n",
    "\n",
    "for idx, asn in enumerate(asns_counts_sorted):\n",
    "    if idx == 10:\n",
    "        break\n",
    "    count = 0\n",
    "    for hsp in hsps:\n",
    "        if asn[0] in rrc_pyt[str(lpm[ip_network(hsp)])]:\n",
    "            count += 1\n",
    "            if asn[0] not in lpm_asn_top10:\n",
    "                lpm_asn_top10[asn[0]] = []\n",
    "            lpm_asn_top10[asn[0]].append(str(lpm[ip_network(hsp)]))\n",
    "\n",
    "    lpm_asn_pyt = pytricia.PyTricia(128)\n",
    "    for lpm_asn in lpm_asn_top10[asn[0]]:\n",
    "        lpm_asn_pyt[lpm_asn] = asn[0]\n",
    "    active_ips_asn = set()\n",
    "    for ip in responsive_ips:\n",
    "        if ip in lpm_asn_pyt:\n",
    "            lpm_asn = lpm_asn_pyt.get_key(ip)\n",
    "            if lpm_asn == \"::/0\":\n",
    "                continue\n",
    "            active_ips_asn.add(ip)  \n",
    "        else:\n",
    "            pass\n",
    "    print(\n",
    "        f\"ASN: {asn[0]}, Number of responsive IPs in LPM - {len(active_ips_asn)}, Number of HSPs - {count}\"\n",
    "    )"
   ]
  }
 ],
 "metadata": {
  "kernelspec": {
   "display_name": "Python 3.11.0 64-bit ('ipv6-hsp')",
   "language": "python",
   "name": "python3"
  },
  "language_info": {
   "codemirror_mode": {
    "name": "ipython",
    "version": 3
   },
   "file_extension": ".py",
   "mimetype": "text/x-python",
   "name": "python",
   "nbconvert_exporter": "python",
   "pygments_lexer": "ipython3",
   "version": "3.11.0"
  },
  "vscode": {
   "interpreter": {
    "hash": "708b78ae5d3aab7c1acd046b51096981aaf1713c849a770af7a8f54f9da4e1df"
   }
  }
 },
 "nbformat": 4,
 "nbformat_minor": 2
}
